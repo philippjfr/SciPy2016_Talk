{
 "cells": [
  {
   "cell_type": "code",
   "execution_count": null,
   "metadata": {
    "collapsed": false
   },
   "outputs": [],
   "source": [
    "import numpy as np\n",
    "import pandas as pd\n",
    "import xarray as xr\n",
    "import holoviews as hv\n",
    "\n",
    "hv.notebook_extension('bokeh')"
   ]
  },
  {
   "cell_type": "code",
   "execution_count": null,
   "metadata": {
    "collapsed": false
   },
   "outputs": [],
   "source": [
    "options = hv.Store.options(backend='matplotlib')\n",
    "options.Bars = hv.Options('plot', color_by=['group'], legend_position='right', xrotation=45, bgcolor='none')\n",
    "options.Bars = hv.Options('style', color=hv.Palette('Set1'))\n",
    "%opts NdOverlay [legend_position='bottom_right' width=400 height=400] Points (color=Palette('Set1') size=6)\n",
    "%output widgets='live'"
   ]
  },
  {
   "cell_type": "markdown",
   "metadata": {},
   "source": [
    "# The data"
   ]
  },
  {
   "cell_type": "markdown",
   "metadata": {},
   "source": [
    "Data available: http://esapubs.org/archive/ecol/E090/184"
   ]
  },
  {
   "cell_type": "code",
   "execution_count": null,
   "metadata": {
    "collapsed": false
   },
   "outputs": [],
   "source": [
    "animals_df = pd.read_csv('./animals_clean.csv')\n",
    "print(\"Number of columns: %s\" % len(animals_df.columns))\n",
    "animals_df.tail()"
   ]
  },
  {
   "cell_type": "markdown",
   "metadata": {},
   "source": [
    "Starting with a high-dimensional dataset, HoloViews is a library of components that let's you express your data in terms of datastructures that have an associated visual representation, without needing to specify how it's rendered or any of details of what it looks like.\n",
    "\n",
    "These datastructures require you to specify how the dimensions of your data map to the visual representation at a high-level. To illustrate this starting with this dataset, which is too high-dimensional to display visually:"
   ]
  },
  {
   "cell_type": "code",
   "execution_count": null,
   "metadata": {
    "collapsed": false
   },
   "outputs": [],
   "source": [
    "dataset = hv.Dataset(animals_df, kdims=['Order', 'Species', 'Social'])\n",
    "dataset"
   ]
  },
  {
   "cell_type": "markdown",
   "metadata": {},
   "source": [
    "#### HoloMap - Widgets"
   ]
  },
  {
   "cell_type": "code",
   "execution_count": null,
   "metadata": {
    "collapsed": false
   },
   "outputs": [],
   "source": [
    "%%opts Points [logy=True]\n",
    "holomap = dataset.to(hv.Points,\n",
    "                      kdims=['GestationLen', 'NeonateBodyMass'],\n",
    "                      vdims=[],\n",
    "                      mdims=['Order'])\n",
    "print repr(holomap)\n",
    "holomap"
   ]
  },
  {
   "cell_type": "markdown",
   "metadata": {},
   "source": [
    "### NdOverlay - Overlaying"
   ]
  },
  {
   "cell_type": "code",
   "execution_count": null,
   "metadata": {
    "collapsed": false
   },
   "outputs": [],
   "source": [
    "animals_overlaid = holomap.overlay()\n",
    "print repr(animals_overlaid)\n",
    "animals_overlaid"
   ]
  },
  {
   "cell_type": "markdown",
   "metadata": {},
   "source": [
    "### NdLayout - Facets"
   ]
  },
  {
   "cell_type": "code",
   "execution_count": null,
   "metadata": {
    "collapsed": false
   },
   "outputs": [],
   "source": [
    "%%opts Points [logy=True]\n",
    "layout = holomap.layout('Order')\n",
    "print repr(layout)\n",
    "layout.cols(3)"
   ]
  },
  {
   "cell_type": "markdown",
   "metadata": {},
   "source": [
    "#### Combining facets and overlays"
   ]
  },
  {
   "cell_type": "code",
   "execution_count": null,
   "metadata": {
    "collapsed": false
   },
   "outputs": [],
   "source": [
    "%%opts Points [logy=True tools=['hover'] show_legend=False size_index=None] (size=5 color=Palette('Set1'))\n",
    "layout = dataset.to(hv.Points, ['GestationLen', 'NeonateBodyMass'],\n",
    "                    ['Order', 'Species'], ['Social', 'Order']).overlay('Order').layout('Social')\n",
    "print repr(layout)\n",
    "layout"
   ]
  },
  {
   "cell_type": "markdown",
   "metadata": {},
   "source": [
    "### Transformations"
   ]
  },
  {
   "cell_type": "code",
   "execution_count": null,
   "metadata": {
    "collapsed": false
   },
   "outputs": [],
   "source": [
    "%%output backend='matplotlib' fig='svg'\n",
    "dataset.aggregate(['Order'], np.mean).to.bars('Order', ['GestationLen']).sort('GestationLen')"
   ]
  },
  {
   "cell_type": "code",
   "execution_count": null,
   "metadata": {
    "collapsed": false
   },
   "outputs": [],
   "source": [
    "%%output size=150\n",
    "%%opts Scatter [tools=['lasso_select']]\n",
    "hv.operation.gridmatrix(dataset.clone(kdims=[], vdims=['WeaningAge', 'SexualMaturityAge', 'SocialGrpSize']))"
   ]
  },
  {
   "cell_type": "markdown",
   "metadata": {},
   "source": [
    "# Gridded datasets"
   ]
  },
  {
   "cell_type": "code",
   "execution_count": null,
   "metadata": {
    "collapsed": false
   },
   "outputs": [],
   "source": [
    "%%output size=125\n",
    "airtemps = xr.tutorial.load_dataset('air_temperature').isel(time=range(0, 100, 4))\n",
    "air_dataset = hv.Dataset(airtemps, datatype=['xarray'])\n",
    "air_temp_map = air_dataset.to(hv.GridImage, ['lon', 'lat'], dynamic=True)\n",
    "air_temp_map"
   ]
  },
  {
   "cell_type": "markdown",
   "metadata": {},
   "source": [
    "### Customizing Plots"
   ]
  },
  {
   "cell_type": "markdown",
   "metadata": {},
   "source": [
    "To view the library of HoloViews Elements please visit the [Element Tutorial](http://holoviews.org/Tutorials/Elements.html) at holoviews.org"
   ]
  },
  {
   "cell_type": "code",
   "execution_count": null,
   "metadata": {
    "collapsed": false
   },
   "outputs": [],
   "source": [
    "outline_data = np.load('US_outline.npy')\n",
    "outline_data"
   ]
  },
  {
   "cell_type": "code",
   "execution_count": null,
   "metadata": {
    "collapsed": false
   },
   "outputs": [],
   "source": [
    "us_outline = hv.Path([np.load('US_outline.npy')])\n",
    "us_outline"
   ]
  },
  {
   "cell_type": "markdown",
   "metadata": {},
   "source": [
    "#### Overlays"
   ]
  },
  {
   "cell_type": "code",
   "execution_count": null,
   "metadata": {
    "collapsed": false
   },
   "outputs": [],
   "source": [
    "us_temp = air_temp_map * us_outline\n",
    "us_temp"
   ]
  },
  {
   "cell_type": "markdown",
   "metadata": {},
   "source": [
    "#### Layout"
   ]
  },
  {
   "cell_type": "code",
   "execution_count": null,
   "metadata": {
    "collapsed": false,
    "scrolled": true
   },
   "outputs": [],
   "source": [
    "%%opts NdOverlay [width=300 height=300] Path (color='k' line_width=2)\n",
    "animals_overlaid + us_temp"
   ]
  },
  {
   "cell_type": "code",
   "execution_count": null,
   "metadata": {
    "collapsed": false
   },
   "outputs": [],
   "source": [
    "intrepr(_)"
   ]
  },
  {
   "cell_type": "markdown",
   "metadata": {},
   "source": [
    "#### Options system"
   ]
  },
  {
   "cell_type": "code",
   "execution_count": null,
   "metadata": {
    "collapsed": false
   },
   "outputs": [],
   "source": [
    "%%opts NdOverlay [width=600 height=400] Points [tools=['hover']] (size=5)\n",
    "animals_overlaid"
   ]
  }
 ],
 "metadata": {
  "hide_input": false,
  "kernelspec": {
   "display_name": "Python 2",
   "language": "python",
   "name": "python2"
  },
  "language_info": {
   "codemirror_mode": {
    "name": "ipython",
    "version": 2
   },
   "file_extension": ".py",
   "mimetype": "text/x-python",
   "name": "python",
   "nbconvert_exporter": "python",
   "pygments_lexer": "ipython2",
   "version": "2.7.11"
  },
  "widgets": {
   "state": {},
   "version": "1.1.2"
  }
 },
 "nbformat": 4,
 "nbformat_minor": 0
}
