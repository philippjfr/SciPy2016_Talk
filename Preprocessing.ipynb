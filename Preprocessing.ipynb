{
 "cells": [
  {
   "cell_type": "code",
   "execution_count": null,
   "metadata": {
    "collapsed": false
   },
   "outputs": [],
   "source": [
    "import numpy as np\n",
    "import pandas as pd\n",
    "import holoviews as hv\n",
    "\n",
    "animals = pd.read_csv('./animals.csv', sep='\\t')\n",
    "animals = animals.drop([c for c in animals.columns if 'GR' in c or 'g_EXT' in c], axis=1)\n",
    "animals = animals.rename(columns={c: c.split('_')[1] if len(c.split('_')) > 1 else c for c in animals.columns})\n",
    "animals = animals[['Order', 'Species', 'AdultBodyMass', 'Temp', 'SexualMaturityAge', 'TrophicLevel',\n",
    "                   'NeonateBodyMass', 'GestationLen', 'SocialGrpSize', 'WeaningAge']].replace(-999.0, np.NaN)\n",
    "animals['Temp'] = animals.Temp/10.\n",
    "animals['SexualMaturityAge'] = animals.SexualMaturityAge/365.\n",
    "animals['WeaningAge'] = animals.WeaningAge/365.\n",
    "\n",
    "animals['Social'] = [('False' if s > 1 else 'True') if np.isfinite(s) else np.NaN for s in animals.SocialGrpSize]\n",
    "\n",
    "largest_orders = list(animals.groupby('Order').agg('count').sort_values('Species').reset_index().Order)[-8:]\n",
    "dataset = hv.Dataset(animals, kdims=['Order', 'Species', 'Social']).redim(**{'Temp': dict(name='Temperature')})\n",
    "dataset = dataset.select(Order=set(largest_orders))\n",
    "dataset.data.to_csv('animals_clean.csv', index=False)"
   ]
  }
 ],
 "metadata": {
  "hide_input": false,
  "kernelspec": {
   "display_name": "Python 2",
   "language": "python",
   "name": "python2"
  },
  "language_info": {
   "codemirror_mode": {
    "name": "ipython",
    "version": 2
   },
   "file_extension": ".py",
   "mimetype": "text/x-python",
   "name": "python",
   "nbconvert_exporter": "python",
   "pygments_lexer": "ipython2",
   "version": "2.7.11"
  },
  "widgets": {
   "state": {},
   "version": "1.1.2"
  }
 },
 "nbformat": 4,
 "nbformat_minor": 0
}
